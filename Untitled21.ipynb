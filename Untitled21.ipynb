{
  "nbformat": 4,
  "nbformat_minor": 0,
  "metadata": {
    "colab": {
      "provenance": [],
      "authorship_tag": "ABX9TyN7uNRvXJ1ig8vtVXWq2hO4",
      "include_colab_link": true
    },
    "kernelspec": {
      "name": "python3",
      "display_name": "Python 3"
    },
    "language_info": {
      "name": "python"
    }
  },
  "cells": [
    {
      "cell_type": "markdown",
      "metadata": {
        "id": "view-in-github",
        "colab_type": "text"
      },
      "source": [
        "<a href=\"https://colab.research.google.com/github/lucky7171/data-Science-projects/blob/starlet/Untitled21.ipynb\" target=\"_parent\"><img src=\"https://colab.research.google.com/assets/colab-badge.svg\" alt=\"Open In Colab\"/></a>"
      ]
    },
    {
      "cell_type": "code",
      "execution_count": 3,
      "metadata": {
        "id": "FQkxbulHH506",
        "colab": {
          "base_uri": "https://localhost:8080/",
          "height": 472
        },
        "outputId": "934e935c-59a4-4f31-e2b4-a8db32b31a60"
      },
      "outputs": [
        {
          "output_type": "display_data",
          "data": {
            "text/plain": [
              "<Figure size 640x480 with 1 Axes>"
            ],
            "image/png": "[encoded data removed]"
          },
          "metadata": {}
        }
      ],
      "source": [
        "import numpy as np\n",
        "import matplotlib.pyplot as plt\n",
        "\n",
        "def sigmoid(x):\n",
        "  \"\"\"\n",
        "  This function calculates the sigmoid of a given input x.\n",
        "\n",
        "  Args:\n",
        "    x: A scalar or a numpy array.\n",
        "\n",
        "  Returns:\n",
        "    The sigmoid of x.\n",
        "  \"\"\"\n",
        "  return 1 / (1 + np.exp(-x))\n",
        "\n",
        "# Generate a range of x values from -15 to 15\n",
        "x = np.linspace(-15, 15, 100)\n",
        "\n",
        "# Calculate the corresponding y values using the sigmoid function\n",
        "y = sigmoid(x)\n",
        "\n",
        "# Plot the sigmoid curve\n",
        "plt.plot(x, y)\n",
        "plt.title(\"Sigmoid Curve\")\n",
        "plt.xlabel(\"x\")\n",
        "plt.ylabel(\"sigmoid(x)\")\n",
        "plt.grid(True)\n",
        "\n",
        "# Add a hat to the plot at the point (4, sigmoid(4))\n",
        "hat_x = 4\n",
        "hat_y = sigmoid(hat_x)\n",
        "plt.plot(hat_x, hat_y, marker=\"^\", markersize=20, color='brown')\n",
        "\n",
        "plt.show()"
      ]
    },
    {
      "cell_type": "code",
      "source": [
        "import requests\n",
        "import json\n",
        "import os\n",
        "\n",
        "def download_xeno_canto(species):\n",
        "    \"\"\"Downloads audio files for a bird species from Xeno-Canto.\n",
        "\n",
        "    Args:\n",
        "        species: The bird species to search for.\n",
        "    \"\"\"\n",
        "\n",
        "    base_url = \"https://www.xeno-canto.org/api/2/recordings\"\n",
        "    query = f\"?query={species}\"\n",
        "\n",
        "    response = requests.get(base_url + query)\n",
        "    response.raise_for_status()  # Check for HTTP errors\n",
        "\n",
        "    data = response.json()\n",
        "    recordings = data.get('recordings', [])\n",
        "\n",
        "    if not recordings:\n",
        "        print(f\"No recordings found for species: {species}\")\n",
        "        return\n",
        "\n",
        "    os.makedirs(species, exist_ok=True)  # Create species directory\n",
        "\n",
        "    for recording in recordings:\n",
        "        file_url = recording.get('file')\n",
        "        if file_url:\n",
        "            file_name = f\"{species}/{recording.get('id', 'unknown')}.mp3\"\n",
        "            download_file(file_url, file_name)\n",
        "\n",
        "def download_file(url, file_path):\n",
        "    \"\"\"Downloads a file from a URL.\n",
        "\n",
        "    Args:\n",
        "        url: The URL of the file to download.\n",
        "        file_path: The local path to save the file to.\n",
        "    \"\"\"\n",
        "\n",
        "    with requests.get(url, stream=True) as r:\n",
        "        r.raise_for_status()\n",
        "        with open(file_path, 'wb') as f:\n",
        "            for chunk in r.iter_content(chunk_size=8192):\n",
        "                f.write(chunk)\n",
        "\n",
        "    print(f\"Downloaded: {file_path}\")\n",
        "\n",
        "if __name__ == \"__main__\":\n",
        "    species_to_download = input(\"Enter a bird species: \")\n",
        "    download_xeno_canto(species_to_download)\n",
        "    !pip install xeno-canto # Use the correct package name 'xeno-canto'\n",
        "\n",
        "import xenocanto\n",
        "import os\n",
        "\n",
        "def download_bird_audio():\n",
        "  \"\"\"\n",
        "  Prompts the user for a bird species and downloads audio files from Xeno-Canto.\n",
        "  Saves the files in a directory named after the species.\n",
        "  \"\"\"\n",
        "  species = input(\"Enter the bird species: \")\n",
        "  # Build the query to only include recordings with the specified species\n",
        "  query = [f\"en:{species}\", \"type:song\"]\n",
        "\n",
        "  # Create a directory to save the audio files\n",
        "  save_dir = species.replace(\" \", \"_\")\n",
        "  if not os.path.exists(save_dir):\n",
        "    os.makedirs(save_dir)\n",
        "\n",
        "  # Download recordings and metadata\n",
        "  xenocanto.download(query, f'{save_dir}') # Save files to the created directory\n",
        "\n",
        "  print(f\"Audio files for {species} downloaded successfully to {save_dir}!\")\n",
        "\n",
        "if __name__ == \"__main__\":\n",
        "  download_bird_audio()"
      ],
      "metadata": {
        "colab": {
          "base_uri": "https://localhost:8080/"
        },
        "id": "ACUxGvPmVau-",
        "outputId": "dfa2863d-ba84-4024-9658-f0e46a7e5c22"
      },
      "execution_count": 8,
      "outputs": [
        {
          "output_type": "stream",
          "name": "stdout",
          "text": [
            "Enter a bird species: Streptopelia hypopyrrha \n",
            "Downloaded: Streptopelia hypopyrrha /454606.mp3\n",
            "Downloaded: Streptopelia hypopyrrha /156458.mp3\n",
            "Downloaded: Streptopelia hypopyrrha /498607.mp3\n",
            "Downloaded: Streptopelia hypopyrrha /498603.mp3\n",
            "Downloaded: Streptopelia hypopyrrha /447266.mp3\n",
            "Downloaded: Streptopelia hypopyrrha /156457.mp3\n",
            "Downloaded: Streptopelia hypopyrrha /156456.mp3\n",
            "Downloaded: Streptopelia hypopyrrha /324365.mp3\n",
            "Requirement already satisfied: xeno-canto in /usr/local/lib/python3.10/dist-packages (3.0)\n",
            "Requirement already satisfied: aiofiles>=0.8.0 in /usr/local/lib/python3.10/dist-packages (from xeno-canto) (24.1.0)\n",
            "Requirement already satisfied: aiohttp>=3.8.1 in /usr/local/lib/python3.10/dist-packages (from xeno-canto) (3.10.8)\n",
            "Requirement already satisfied: aiohappyeyeballs>=2.3.0 in /usr/local/lib/python3.10/dist-packages (from aiohttp>=3.8.1->xeno-canto) (2.4.2)\n",
            "Requirement already satisfied: aiosignal>=1.1.2 in /usr/local/lib/python3.10/dist-packages (from aiohttp>=3.8.1->xeno-canto) (1.3.1)\n",
            "Requirement already satisfied: attrs>=17.3.0 in /usr/local/lib/python3.10/dist-packages (from aiohttp>=3.8.1->xeno-canto) (24.2.0)\n",
            "Requirement already satisfied: frozenlist>=1.1.1 in /usr/local/lib/python3.10/dist-packages (from aiohttp>=3.8.1->xeno-canto) (1.4.1)\n",
            "Requirement already satisfied: multidict<7.0,>=4.5 in /usr/local/lib/python3.10/dist-packages (from aiohttp>=3.8.1->xeno-canto) (6.1.0)\n",
            "Requirement already satisfied: yarl<2.0,>=1.12.0 in /usr/local/lib/python3.10/dist-packages (from aiohttp>=3.8.1->xeno-canto) (1.13.1)\n",
            "Requirement already satisfied: async-timeout<5.0,>=4.0 in /usr/local/lib/python3.10/dist-packages (from aiohttp>=3.8.1->xeno-canto) (4.0.3)\n",
            "Requirement already satisfied: typing-extensions>=4.1.0 in /usr/local/lib/python3.10/dist-packages (from multidict<7.0,>=4.5->aiohttp>=3.8.1->xeno-canto) (4.12.2)\n",
            "Requirement already satisfied: idna>=2.0 in /usr/local/lib/python3.10/dist-packages (from yarl<2.0,>=1.12.0->aiohttp>=3.8.1->xeno-canto) (3.10)\n",
            "Enter the bird species: Streptopelia hypopyrrha \n",
            "Audio files for Streptopelia hypopyrrha  downloaded successfully to Streptopelia_hypopyrrha_!\n"
          ]
        },
        {
          "output_type": "stream",
          "name": "stderr",
          "text": [
            "<ipython-input-8-7b7f37c28a3e>:72: RuntimeWarning: coroutine 'download' was never awaited\n",
            "  xenocanto.download(query, f'{save_dir}') # Save files to the created directory\n",
            "RuntimeWarning: Enable tracemalloc to get the object allocation traceback\n"
          ]
        }
      ]
    },
    {
      "cell_type": "markdown",
      "source": [],
      "metadata": {
        "id": "0QJFH_-9a-UQ"
      }
    },
    {
      "cell_type": "markdown",
      "source": [],
      "metadata": {
        "id": "XeId6Lb9a-JL"
      }
    }
  ]
}