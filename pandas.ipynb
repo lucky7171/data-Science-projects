{
  "nbformat": 4,
  "nbformat_minor": 0,
  "metadata": {
    "colab": {
      "provenance": [],
      "authorship_tag": "ABX9TyOdEEXfAl9ACDkE6VDYJoYf",
      "include_colab_link": true
    },
    "kernelspec": {
      "name": "python3",
      "display_name": "Python 3"
    },
    "language_info": {
      "name": "python"
    }
  },
  "cells": [
    {
      "cell_type": "markdown",
      "metadata": {
        "id": "view-in-github",
        "colab_type": "text"
      },
      "source": [
        "<a href=\"https://colab.research.google.com/github/lucky7171/data-Science-projects/blob/starlet/pandas.ipynb\" target=\"_parent\"><img src=\"https://colab.research.google.com/assets/colab-badge.svg\" alt=\"Open In Colab\"/></a>"
      ]
    },
    {
      "cell_type": "markdown",
      "source": [
        "# pandas is a python library\n"
      ],
      "metadata": {
        "id": "AoVrLv6pK6YP"
      }
    },
    {
      "cell_type": "markdown",
      "source": [
        "Pandas library is used for data manipulation and analysis."
      ],
      "metadata": {
        "id": "ilYMk-spLUSA"
      }
    },
    {
      "cell_type": "code",
      "source": [],
      "metadata": {
        "id": "qRR81issLYlP"
      },
      "execution_count": null,
      "outputs": []
    },
    {
      "cell_type": "code",
      "source": [],
      "metadata": {
        "id": "S-pfI9zMLF0l"
      },
      "execution_count": null,
      "outputs": []
    }
  ]
}